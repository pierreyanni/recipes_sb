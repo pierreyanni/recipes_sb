{
 "cells": [
  {
   "cell_type": "code",
   "execution_count": 1,
   "id": "22a52321",
   "metadata": {},
   "outputs": [],
   "source": [
    "import re\n",
    "import os\n",
    "import pandas as pd\n",
    "import matplotlib.pyplot as plt\n",
    "import seaborn as sns\n",
    "import numpy as np"
   ]
  },
  {
   "cell_type": "code",
   "execution_count": 2,
   "id": "8c527e00",
   "metadata": {
    "scrolled": true
   },
   "outputs": [
    {
     "data": {
      "text/plain": [
       "['1', '70_15_15', 'baseline', 'xvector']"
      ]
     },
     "execution_count": 2,
     "metadata": {},
     "output_type": "execute_result"
    }
   ],
   "source": [
    "folder = 'results'\n",
    "cases = os.listdir(folder)\n",
    "cases"
   ]
  },
  {
   "cell_type": "code",
   "execution_count": 3,
   "id": "7917d35c",
   "metadata": {},
   "outputs": [
    {
     "data": {
      "text/html": [
       "<div>\n",
       "<style scoped>\n",
       "    .dataframe tbody tr th:only-of-type {\n",
       "        vertical-align: middle;\n",
       "    }\n",
       "\n",
       "    .dataframe tbody tr th {\n",
       "        vertical-align: top;\n",
       "    }\n",
       "\n",
       "    .dataframe thead th {\n",
       "        text-align: right;\n",
       "    }\n",
       "</style>\n",
       "<table border=\"1\" class=\"dataframe\">\n",
       "  <thead>\n",
       "    <tr style=\"text-align: right;\">\n",
       "      <th></th>\n",
       "      <th>id</th>\n",
       "      <th>prediction</th>\n",
       "      <th>true_value</th>\n",
       "      <th>correct</th>\n",
       "    </tr>\n",
       "  </thead>\n",
       "  <tbody>\n",
       "    <tr>\n",
       "      <th>0</th>\n",
       "      <td>psno2_neu_s342_orgn</td>\n",
       "      <td>sad</td>\n",
       "      <td>neu</td>\n",
       "      <td>False</td>\n",
       "    </tr>\n",
       "    <tr>\n",
       "      <th>1</th>\n",
       "      <td>psno2_hap_s412_orgn</td>\n",
       "      <td>hap</td>\n",
       "      <td>hap</td>\n",
       "      <td>True</td>\n",
       "    </tr>\n",
       "    <tr>\n",
       "      <th>2</th>\n",
       "      <td>psno4_neu_s825_orgn</td>\n",
       "      <td>ang</td>\n",
       "      <td>neu</td>\n",
       "      <td>False</td>\n",
       "    </tr>\n",
       "    <tr>\n",
       "      <th>3</th>\n",
       "      <td>psno5_sad_s636_orgn</td>\n",
       "      <td>sad</td>\n",
       "      <td>sad</td>\n",
       "      <td>True</td>\n",
       "    </tr>\n",
       "    <tr>\n",
       "      <th>4</th>\n",
       "      <td>psno2_neu_s462_orgn</td>\n",
       "      <td>sad</td>\n",
       "      <td>neu</td>\n",
       "      <td>False</td>\n",
       "    </tr>\n",
       "  </tbody>\n",
       "</table>\n",
       "</div>"
      ],
      "text/plain": [
       "                    id prediction true_value  correct\n",
       "0  psno2_neu_s342_orgn        sad        neu    False\n",
       "1  psno2_hap_s412_orgn        hap        hap     True\n",
       "2  psno4_neu_s825_orgn        ang        neu    False\n",
       "3  psno5_sad_s636_orgn        sad        sad     True\n",
       "4  psno2_neu_s462_orgn        sad        neu    False"
      ]
     },
     "execution_count": 3,
     "metadata": {},
     "output_type": "execute_result"
    }
   ],
   "source": [
    "case = cases[1]\n",
    "\n",
    "path = os.path.join(os.getcwd(), folder, case)\n",
    "with open(os.path.join(path, 'label_encoder.txt'), 'r') as file:\n",
    "    emos = file.readlines()[:4]\n",
    "d_emos = {int(emo[-2]): emo[1:4] for emo in emos}\n",
    "\n",
    "df = pd.read_csv(path + '/predictions.csv')\n",
    "df.prediction.replace(d_emos, inplace=True)\n",
    "df.true_value.replace(d_emos, inplace=True)\n",
    "df['correct'] = (df.prediction == df.true_value)\n",
    "df.head()"
   ]
  },
  {
   "cell_type": "code",
   "execution_count": 4,
   "id": "b94aa331",
   "metadata": {},
   "outputs": [
    {
     "name": "stdout",
     "output_type": "stream",
     "text": [
      "true_value  ang  hap  neu  sad  total\n",
      "prediction                           \n",
      "ang          82   14   11    4    111\n",
      "hap          12   94   18    3    127\n",
      "neu          11   47  108   29    195\n",
      "sad           4   18   19   80    121\n",
      "total       109  173  156  116    554\n"
     ]
    }
   ],
   "source": [
    "table = pd.pivot_table(df, values='correct', index='prediction', columns='true_value',\n",
    "                       aggfunc=len, fill_value=0, margins=True, margins_name='total')\n",
    "table.to_csv(os.path.join(path, f'confusion_{case}.csv'))\n",
    "print(table)"
   ]
  },
  {
   "cell_type": "code",
   "execution_count": 7,
   "id": "d1ad00cd",
   "metadata": {},
   "outputs": [
    {
     "name": "stdout",
     "output_type": "stream",
     "text": [
      "ACCURACY: 0.657 (weighted), 0.669 (unweighted)\n"
     ]
    }
   ],
   "source": [
    "# see MINGKE XU1, FAN ZHANG2, SAMEE U.KHAN3, AND WEI ZHANG for definitions weighted/unweighted accuracy\n",
    "\n",
    "table = pd.pivot_table(df, values='correct', index='prediction', columns='true_value',\n",
    "                       aggfunc=len, fill_value=0)\n",
    "\n",
    "# weighted accuracy:\n",
    "weighted_acc = df.correct.mean().round(3)\n",
    "\n",
    "# unweighted accuracy:\n",
    "unweighted_acc = 0\n",
    "for emo in ['ang', 'hap', 'neu', 'sad']:\n",
    "    unweighted_acc += table.loc[emo, emo] / table.loc[:, emo].sum() / 4\n",
    "\n",
    "\n",
    "print(f'ACCURACY: {weighted_acc} (weighted), {round(unweighted_acc, 3)} (unweighted)')"
   ]
  },
  {
   "cell_type": "code",
   "execution_count": 6,
   "id": "ad0bce94",
   "metadata": {},
   "outputs": [
    {
     "name": "stdout",
     "output_type": "stream",
     "text": [
      "     precision  recall\n",
      "ang      0.739   0.752\n",
      "hap      0.740   0.543\n",
      "neu      0.554   0.692\n",
      "sad      0.661   0.690\n"
     ]
    }
   ],
   "source": [
    "table = pd.pivot_table(df, values='correct', index='prediction', columns='true_value',\n",
    "                       aggfunc=len, fill_value=0)\n",
    "\n",
    "results = pd.DataFrame()\n",
    "\n",
    "# precision\n",
    "for pred in ['ang', 'hap', 'neu', 'sad']:\n",
    "    results.loc[pred, 'precision'] = (table.loc[pred, pred] / table.loc[pred, :].sum())\n",
    "\n",
    "# recall\n",
    "for emo in ['ang', 'hap', 'neu', 'sad']:\n",
    "    results.loc[emo, 'recall'] = (table.loc[emo, emo] / table.loc[:, emo].sum())\n",
    "    \n",
    "results.to_csv(os.path.join(path, f'prec_rec_{case}.csv'))\n",
    "print(results.round(3))"
   ]
  },
  {
   "cell_type": "markdown",
   "id": "b34ee0dd",
   "metadata": {},
   "source": [
    "could add a heatmap: https://devblogs.microsoft.com/cse/2015/11/29/data-preparation-the-balancing-act"
   ]
  },
  {
   "cell_type": "code",
   "execution_count": 7,
   "id": "8b7b9a21",
   "metadata": {},
   "outputs": [],
   "source": [
    "epochs, lr, train_loss, valid_loss, valid_acc = [], [], [], [], []\n",
    "with open(os.path.join(path, 'train_log.txt'), 'r') as file:\n",
    "    lines = file.readlines()\n",
    "    numbers = re.findall(\"[-+]?[.]?[\\d]+(?:,\\d\\d\\d)*[\\.]?\\d*(?:[eE][-+]?\\d+)?\", lines[-1])\n",
    "    best_epoch, test_acc = int(numbers[0]), 1 - float(numbers[2])\n",
    "    for line in lines[:-1]:\n",
    "        numbers = re.findall(\"[-+]?[.]?[\\d]+(?:,\\d\\d\\d)*[\\.]?\\d*(?:[eE][-+]?\\d+)?\", line)\n",
    "        epochs.append(int(numbers[0]))\n",
    "        lr.append(float(numbers[1]))\n",
    "        train_loss.append(float(numbers[2]))\n",
    "        valid_loss.append(float(numbers[3]))\n",
    "        valid_acc.append(1 - float(numbers[4]))"
   ]
  },
  {
   "cell_type": "code",
   "execution_count": 8,
   "id": "8c9ba424",
   "metadata": {
    "scrolled": true
   },
   "outputs": [
    {
     "data": {
      "image/png": "[encoded data removed]",
      "text/plain": [
       "<Figure size 432x288 with 2 Axes>"
      ]
     },
     "metadata": {
      "needs_background": "light"
     },
     "output_type": "display_data"
    }
   ],
   "source": [
    "fig, ax1 = plt.subplots()\n",
    "\n",
    "color='blue'\n",
    "ax1.set_xlabel('epochs')\n",
    "ax1.set_ylabel('loss', color=color)\n",
    "ax1.plot(epochs, train_loss, color=color, linestyle='--', label='train loss')\n",
    "ax1.plot(epochs, valid_loss, color=color, label='validation loss')\n",
    "ax1.tick_params(axis='y', labelcolor=color)\n",
    "\n",
    "\n",
    "ax2 = ax1.twinx()  # instantiate a second axes that shares the same x-axis\n",
    "\n",
    "color='red'\n",
    "ax2.set_ylabel('accuracy', color=color)\n",
    "ax2.plot(epochs, valid_acc, color=color, label='accuracy validation set')\n",
    "ax2.axvline(best_epoch, color='black', linestyle='--', linewidth=1, label='best epoch')\n",
    "ax2.scatter(best_epoch, test_acc, color=color, marker= 'x', s=100, linewidths=3, label='accuracy test set')\n",
    "ax2.tick_params(axis='y', labelcolor=color)\n",
    "\n",
    "\n",
    "lines_1, labels_1 = ax1.get_legend_handles_labels()\n",
    "lines_2, labels_2 = ax2.get_legend_handles_labels()\n",
    "\n",
    "lines = lines_1 + lines_2\n",
    "labels = labels_1 + labels_2\n",
    "\n",
    "ax1.legend(lines, labels, loc=7)\n",
    "\n",
    "plt.grid()\n",
    "plt.savefig(os.path.join(path, f'fig_{case}.png'))\n",
    "plt.show()"
   ]
  }
 ],
 "metadata": {
  "kernelspec": {
   "display_name": "Python 3",
   "language": "python",
   "name": "python3"
  },
  "language_info": {
   "codemirror_mode": {
    "name": "ipython",
    "version": 3
   },
   "file_extension": ".py",
   "mimetype": "text/x-python",
   "name": "python",
   "nbconvert_exporter": "python",
   "pygments_lexer": "ipython3",
   "version": "3.8.8"
  }
 },
 "nbformat": 4,
 "nbformat_minor": 5
}
